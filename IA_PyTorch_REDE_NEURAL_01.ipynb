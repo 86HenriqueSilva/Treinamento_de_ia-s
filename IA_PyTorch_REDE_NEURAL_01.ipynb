{
  "nbformat": 4,
  "nbformat_minor": 0,
  "metadata": {
    "colab": {
      "provenance": [],
      "authorship_tag": "ABX9TyPrr1dI+VoqH5x19ovaQfZe",
      "include_colab_link": true
    },
    "kernelspec": {
      "name": "python3",
      "display_name": "Python 3"
    },
    "language_info": {
      "name": "python"
    }
  },
  "cells": [
    {
      "cell_type": "markdown",
      "metadata": {
        "id": "view-in-github",
        "colab_type": "text"
      },
      "source": [
        "<a href=\"https://colab.research.google.com/github/86HenriqueSilva/Treinamento_de_ia-s/blob/main/IA_PyTorch_REDE_NEURAL_01.ipynb\" target=\"_parent\"><img src=\"https://colab.research.google.com/assets/colab-badge.svg\" alt=\"Open In Colab\"/></a>"
      ]
    },
    {
      "cell_type": "code",
      "execution_count": 14,
      "metadata": {
        "colab": {
          "base_uri": "https://localhost:8080/"
        },
        "id": "IPA7TeJqNB5Z",
        "outputId": "3baa82e1-e715-4644-eebe-5b1ec30ddc26"
      },
      "outputs": [
        {
          "output_type": "stream",
          "name": "stdout",
          "text": [
            "Drive already mounted at /content/drive; to attempt to forcibly remount, call drive.mount(\"/content/drive\", force_remount=True).\n",
            "Carregando os dados do histórico da Mega Sena...\n",
            "Treinando a rede neural...\n"
          ]
        },
        {
          "output_type": "stream",
          "name": "stderr",
          "text": [
            "100%|██████████| 1000/1000 [00:30<00:00, 33.28it/s]"
          ]
        },
        {
          "output_type": "stream",
          "name": "stdout",
          "text": [
            "Treinamento concluído.\n",
            "Previsões para o próximo sorteio da Mega Sena:\n",
            "[47 11 24 13 42 56]\n"
          ]
        },
        {
          "output_type": "stream",
          "name": "stderr",
          "text": [
            "\n"
          ]
        }
      ],
      "source": [
        "import pandas as pd\n",
        "import numpy as np\n",
        "import torch\n",
        "import torch.nn as nn\n",
        "import torch.optim as optim\n",
        "from sklearn.model_selection import train_test_split\n",
        "from sklearn.preprocessing import StandardScaler\n",
        "from tqdm import tqdm\n",
        "\n",
        "# Montar o Google Drive para acessar o arquivo de dados\n",
        "from google.colab import drive\n",
        "drive.mount('/content/drive')\n",
        "\n",
        "# URL do arquivo CSV no Google Drive contendo os dados do histórico da Mega Sena\n",
        "url = \"https://drive.google.com/uc?id=1BXzIxSNSK03Q73OfvC_CCDoJSOZ_LI2n\"\n",
        "\n",
        "# Carregar os dados do arquivo CSV para uma estrutura de dados tabular\n",
        "print(\"Carregando os dados do histórico da Mega Sena...\")\n",
        "dados = pd.read_csv(url)\n",
        "\n",
        "# Remover colunas de data\n",
        "dados = dados.drop(columns=['Data'])\n",
        "\n",
        "# Definir janela de histórico (quantidade de concursos anteriores)\n",
        "janela = 10\n",
        "\n",
        "# Função para criar janelas de histórico dos dados\n",
        "def criar_janelas(dados, janela):\n",
        "    \"\"\"\n",
        "    Função para criar janelas de histórico dos dados.\n",
        "\n",
        "    Args:\n",
        "        dados (DataFrame): DataFrame contendo os dados do histórico da Mega Sena.\n",
        "        janela (int): Tamanho da janela de histórico.\n",
        "\n",
        "    Returns:\n",
        "        X (array): Array contendo as janelas de histórico.\n",
        "        y (array): Array contendo os dados do próximo concurso após cada janela.\n",
        "    \"\"\"\n",
        "    X, y = [], []\n",
        "    for i in range(len(dados)-janela-1):\n",
        "        janela_dados = dados.iloc[i:(i+janela), 1:].values.flatten()\n",
        "        X.append(janela_dados)\n",
        "        proximo_concurso = dados.iloc[i+janela, 1:].values\n",
        "        y.append(proximo_concurso)\n",
        "    return np.array(X), np.array(y)\n",
        "\n",
        "# Criar janelas de histórico dos dados\n",
        "X, y = criar_janelas(dados, janela)\n",
        "\n",
        "# Dividir os dados em conjuntos de treinamento e teste\n",
        "X_train, X_test, y_train, y_test = train_test_split(X, y, test_size=0.2, random_state=42)\n",
        "\n",
        "# Normalizar os dados\n",
        "scaler = StandardScaler()\n",
        "X_train = scaler.fit_transform(X_train)\n",
        "X_test = scaler.transform(X_test)\n",
        "\n",
        "# Definir modelo da rede neural\n",
        "class MegaSenaPredictor(nn.Module):\n",
        "    \"\"\"\n",
        "    Classe para o modelo da rede neural para previsão da Mega Sena.\n",
        "\n",
        "    Args:\n",
        "        input_size (int): Tamanho da entrada.\n",
        "        hidden_size (int): Tamanho da camada oculta.\n",
        "        output_size (int): Tamanho da saída.\n",
        "    \"\"\"\n",
        "    def __init__(self, input_size, hidden_size, output_size):\n",
        "        super(MegaSenaPredictor, self).__init__()\n",
        "        self.fc1 = nn.Linear(input_size, hidden_size)\n",
        "        self.relu = nn.ReLU()\n",
        "        self.fc2 = nn.Linear(hidden_size, output_size)\n",
        "\n",
        "    def forward(self, x):\n",
        "        out = self.fc1(x)\n",
        "        out = self.relu(out)\n",
        "        out = self.fc2(out)\n",
        "        return out\n",
        "\n",
        "# Definir hiperparâmetros da rede neural\n",
        "input_size = janela * 6  # 6 bolas em cada concurso\n",
        "hidden_size = 1024\n",
        "output_size = 6\n",
        "\n",
        "# Instanciar o modelo da rede neural\n",
        "modelo = MegaSenaPredictor(input_size, hidden_size, output_size)\n",
        "\n",
        "# Definir função de perda e otimizador\n",
        "criterion = nn.MSELoss()\n",
        "optimizer = optim.Adam(modelo.parameters(), lr=0.001)\n",
        "\n",
        "# Definir número de épocas e tamanho do batch\n",
        "num_epochs = 1000\n",
        "batch_size = 512\n",
        "\n",
        "# Treinar a rede neural\n",
        "print(\"Treinando a rede neural...\")\n",
        "for epoch in tqdm(range(num_epochs)):\n",
        "    # Embaralhar os dados de treinamento\n",
        "    indices = np.random.permutation(len(X_train))\n",
        "    X_train_shuffled = X_train[indices]\n",
        "    y_train_shuffled = y_train[indices]\n",
        "\n",
        "    # Dividir os dados em batches\n",
        "    for i in range(0, len(X_train), batch_size):\n",
        "        inputs = torch.tensor(X_train_shuffled[i:i+batch_size], dtype=torch.float32)\n",
        "        targets = torch.tensor(y_train_shuffled[i:i+batch_size], dtype=torch.float32)\n",
        "\n",
        "        # Forward pass\n",
        "        optimizer.zero_grad()\n",
        "        outputs = modelo(inputs)\n",
        "        loss = criterion(outputs, targets)\n",
        "\n",
        "        # Backward pass e otimização\n",
        "        loss.backward()\n",
        "        optimizer.step()\n",
        "\n",
        "print(\"Treinamento concluído.\")\n",
        "\n",
        "# Avaliar o modelo\n",
        "modelo.eval()\n",
        "with torch.no_grad():\n",
        "    inputs = torch.tensor(X_test, dtype=torch.float32)\n",
        "    outputs = modelo(inputs).numpy()\n",
        "\n",
        "# Exibir previsões\n",
        "print(\"Previsões para o próximo sorteio da Mega Sena:\")\n",
        "previsoes_inteiras = outputs[0].round().astype(int)\n",
        "print(previsoes_inteiras)\n"
      ]
    }
  ]
}