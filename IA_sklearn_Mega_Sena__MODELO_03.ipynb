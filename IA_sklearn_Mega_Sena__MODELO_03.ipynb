{
  "nbformat": 4,
  "nbformat_minor": 0,
  "metadata": {
    "colab": {
      "provenance": [],
      "authorship_tag": "ABX9TyPklXywU0f9oCjQxQfLdvMS",
      "include_colab_link": true
    },
    "kernelspec": {
      "name": "python3",
      "display_name": "Python 3"
    },
    "language_info": {
      "name": "python"
    }
  },
  "cells": [
    {
      "cell_type": "markdown",
      "metadata": {
        "id": "view-in-github",
        "colab_type": "text"
      },
      "source": [
        "<a href=\"https://colab.research.google.com/github/86HenriqueSilva/Treinamento_de_ia-s/blob/main/IA_sklearn_Mega_Sena__MODELO_03.ipynb\" target=\"_parent\"><img src=\"https://colab.research.google.com/assets/colab-badge.svg\" alt=\"Open In Colab\"/></a>"
      ]
    },
    {
      "cell_type": "code",
      "execution_count": 6,
      "metadata": {
        "colab": {
          "base_uri": "https://localhost:8080/"
        },
        "id": "YY_qklprFOhA",
        "outputId": "3e0ae1d7-b99b-4e78-b768-2d603c803bea"
      },
      "outputs": [
        {
          "output_type": "stream",
          "name": "stdout",
          "text": [
            "Drive already mounted at /content/drive; to attempt to forcibly remount, call drive.mount(\"/content/drive\", force_remount=True).\n",
            "Carregando os dados do histórico da Mega Sena...\n",
            "Iniciando o treinamento do modelo de regressão de floresta aleatória com validação cruzada...\n",
            "Modelo treinado em 60.14 segundos.\n",
            "Realizando previsão para o próximo sorteio da Mega Sena...\n",
            "Previsão para o próximo sorteio da Mega Sena: [13 19 16 12 11 14]\n"
          ]
        },
        {
          "output_type": "stream",
          "name": "stderr",
          "text": [
            "/usr/local/lib/python3.10/dist-packages/sklearn/base.py:439: UserWarning: X does not have valid feature names, but StandardScaler was fitted with feature names\n",
            "  warnings.warn(\n",
            "/usr/local/lib/python3.10/dist-packages/sklearn/base.py:439: UserWarning: X does not have valid feature names, but RandomForestRegressor was fitted with feature names\n",
            "  warnings.warn(\n"
          ]
        }
      ],
      "source": [
        "import pandas as pd\n",
        "from sklearn.ensemble import RandomForestRegressor\n",
        "from sklearn.model_selection import cross_val_score\n",
        "from sklearn.preprocessing import StandardScaler\n",
        "from sklearn.pipeline import Pipeline\n",
        "import time\n",
        "from tqdm import tqdm\n",
        "\n",
        "# Montar o Google Drive para acessar o arquivo de dados\n",
        "from google.colab import drive\n",
        "drive.mount('/content/drive')\n",
        "\n",
        "# URL do arquivo CSV no Google Drive contendo os dados do histórico da Mega Sena\n",
        "url = \"https://drive.google.com/uc?id=1BXzIxSNSK03Q73OfvC_CCDoJSOZ_LI2n\"\n",
        "\n",
        "# Carregar os dados do arquivo CSV para uma estrutura de dados tabular\n",
        "print(\"Carregando os dados do histórico da Mega Sena...\")\n",
        "dados = pd.read_csv(url)\n",
        "\n",
        "# Dividir os dados em features (X) e target (y)\n",
        "# Features (variáveis independentes): números sorteados em concursos anteriores\n",
        "# Target (variáveis dependentes): números sorteados no próximo concurso\n",
        "X = dados.drop(columns=['Concurso', 'Data'])  # Excluindo colunas de identificação do concurso e data\n",
        "y = dados[['Bola 1', 'Bola 2', 'Bola 3', 'Bola 4', 'Bola 5', 'Bola 6']]  # Definindo as bolas sorteadas como o target\n",
        "\n",
        "# Criar um pipeline com pré-processamento de dados e modelo de regressão de floresta aleatória\n",
        "pipeline = Pipeline([\n",
        "    ('scaler', StandardScaler()),  # Normalização das features\n",
        "    ('rf', RandomForestRegressor(random_state=512))  # Modelo de regressão de floresta aleatória\n",
        "])\n",
        "\n",
        "# Ajustar o pré-processador aos dados\n",
        "pipeline['scaler'].fit(X)\n",
        "\n",
        "# Definir o tempo máximo de treinamento para o modelo (em segundos)\n",
        "tempo_maximo_treinamento = 60  # Definindo um minuto como tempo máximo de treinamento\n",
        "\n",
        "# Inicializar listas para armazenar os resultados da validação cruzada\n",
        "scores = []\n",
        "\n",
        "# Iniciar tempo de treinamento\n",
        "inicio_treinamento = time.time()\n",
        "\n",
        "# Ajustar o modelo ao pipeline\n",
        "pipeline['rf'].fit(X, y)\n",
        "\n",
        "# Loop de treinamento com validação cruzada\n",
        "print(\"Iniciando o treinamento do modelo de regressão de floresta aleatória com validação cruzada...\")\n",
        "while (time.time() - inicio_treinamento) < tempo_maximo_treinamento:\n",
        "    # Calcular os scores da validação cruzada\n",
        "    score = cross_val_score(pipeline, X, y, cv=5, scoring='neg_mean_squared_error').mean()\n",
        "    scores.append(score)\n",
        "\n",
        "# Tempo total de treinamento\n",
        "tempo_total_treinamento = time.time() - inicio_treinamento\n",
        "\n",
        "print(f\"Modelo treinado em {tempo_total_treinamento:.2f} segundos.\")\n",
        "\n",
        "# Realizar previsão dos números da próxima Mega Sena\n",
        "print(\"Realizando previsão para o próximo sorteio da Mega Sena...\")\n",
        "ultima_entrada = X.iloc[-1, :].values.reshape(1, -1)  # Obtendo os números sorteados mais recentes\n",
        "previsao = pipeline.predict(ultima_entrada)  # Realizando a previsão dos números do próximo sorteio\n",
        "previsao_inteira = previsao.round().astype(int)  # Arredondando a previsão para números inteiros\n",
        "print(f\"Previsão para o próximo sorteio da Mega Sena: {previsao_inteira[0]}\")\n"
      ]
    }
  ]
}