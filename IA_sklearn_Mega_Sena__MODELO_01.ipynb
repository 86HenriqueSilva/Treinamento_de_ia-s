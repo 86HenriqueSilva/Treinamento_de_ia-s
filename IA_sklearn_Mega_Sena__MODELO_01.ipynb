{
  "nbformat": 4,
  "nbformat_minor": 0,
  "metadata": {
    "colab": {
      "provenance": [],
      "authorship_tag": "ABX9TyMoyHg/ADLrUFE300lGrva7",
      "include_colab_link": true
    },
    "kernelspec": {
      "name": "python3",
      "display_name": "Python 3"
    },
    "language_info": {
      "name": "python"
    }
  },
  "cells": [
    {
      "cell_type": "markdown",
      "metadata": {
        "id": "view-in-github",
        "colab_type": "text"
      },
      "source": [
        "<a href=\"https://colab.research.google.com/github/86HenriqueSilva/Treinamento_de_ia-s/blob/main/IA_sklearn_Mega_Sena__MODELO_01.ipynb\" target=\"_parent\"><img src=\"https://colab.research.google.com/assets/colab-badge.svg\" alt=\"Open In Colab\"/></a>"
      ]
    },
    {
      "cell_type": "code",
      "execution_count": 15,
      "metadata": {
        "colab": {
          "base_uri": "https://localhost:8080/"
        },
        "id": "UcpDkpBR5l87",
        "outputId": "38055232-fbc0-421e-ee32-18a8c5b446bb"
      },
      "outputs": [
        {
          "output_type": "stream",
          "name": "stdout",
          "text": [
            "Drive already mounted at /content/drive; to attempt to forcibly remount, call drive.mount(\"/content/drive\", force_remount=True).\n",
            "Carregando os dados do histórico da Mega Sena...\n",
            "Iniciando o treinamento do modelo de regressão de floresta aleatória...\n",
            "Modelo treinado em 60.30 segundos.\n",
            "Realizando previsão para o próximo sorteio da Mega Sena...\n",
            "Previsão para o próximo sorteio da Mega Sena: [17 46 56 42 51 16]\n",
            "Previsão concluída em 0.01 segundos.\n"
          ]
        },
        {
          "output_type": "stream",
          "name": "stderr",
          "text": [
            "/usr/local/lib/python3.10/dist-packages/sklearn/base.py:439: UserWarning: X does not have valid feature names, but RandomForestRegressor was fitted with feature names\n",
            "  warnings.warn(\n"
          ]
        }
      ],
      "source": [
        "import pandas as pd\n",
        "from sklearn.ensemble import RandomForestRegressor\n",
        "import time\n",
        "\n",
        "# Montar o Google Drive para acessar o arquivo de dados\n",
        "from google.colab import drive\n",
        "drive.mount('/content/drive')\n",
        "\n",
        "# URL do arquivo CSV no Google Drive contendo os dados do histórico da Mega Sena\n",
        "url = \"https://drive.google.com/uc?id=1BXzIxSNSK03Q73OfvC_CCDoJSOZ_LI2n\"\n",
        "\n",
        "# Carregar os dados do arquivo CSV para uma estrutura de dados tabular\n",
        "print(\"Carregando os dados do histórico da Mega Sena...\")\n",
        "dados = pd.read_csv(url)\n",
        "\n",
        "# Dividir os dados em features (X) e target (y)\n",
        "# Features (variáveis independentes): números sorteados em concursos anteriores\n",
        "# Target (variáveis dependentes): números sorteados no próximo concurso\n",
        "X = dados.drop(columns=['Concurso', 'Data'])  # Excluindo colunas de identificação do concurso e data\n",
        "y = dados[['Bola 1', 'Bola 2', 'Bola 3', 'Bola 4', 'Bola 5', 'Bola 6']]  # Definindo as bolas sorteadas como o target\n",
        "\n",
        "# Definir o tempo máximo de treinamento para o modelo (em segundos)\n",
        "tempo_maximo_treinamento = 60  # Definindo um minuto como tempo máximo de treinamento\n",
        "\n",
        "# Treinar o modelo de regressão de floresta aleatória para prever os números da Mega Sena\n",
        "print(\"Iniciando o treinamento do modelo de regressão de floresta aleatória...\")\n",
        "inicio_treinamento = time.time()  # Registrando o tempo de início do treinamento\n",
        "tempo_atual = inicio_treinamento  # Registrando o tempo atual\n",
        "modelo = RandomForestRegressor(random_state=512)  # Criando uma instância do modelo de regressão de floresta aleatória\n",
        "while tempo_atual - inicio_treinamento < tempo_maximo_treinamento:\n",
        "    modelo.fit(X, y)  # Ajustando o modelo aos dados de treinamento\n",
        "    tempo_atual = time.time()  # Atualizando o tempo atual\n",
        "fim_treinamento = time.time()  # Registrando o tempo de término do treinamento\n",
        "tempo_total_treinamento = fim_treinamento - inicio_treinamento  # Calculando o tempo total de treinamento\n",
        "print(f\"Modelo treinado em {tempo_total_treinamento:.2f} segundos.\")\n",
        "\n",
        "# Realizar previsão dos números da próxima Mega Sena\n",
        "print(\"Realizando previsão para o próximo sorteio da Mega Sena...\")\n",
        "inicio_previsao = time.time()  # Registrando o tempo de início da previsão\n",
        "ultima_entrada = X.iloc[-1, :].values.reshape(1, -1)  # Obtendo os números sorteados mais recentes\n",
        "previsao = modelo.predict(ultima_entrada)  # Realizando a previsão dos números do próximo sorteio\n",
        "fim_previsao = time.time()  # Registrando o tempo de término da previsão\n",
        "tempo_previsao = fim_previsao - inicio_previsao  # Calculando o tempo de previsão\n",
        "previsao_inteira = previsao.round().astype(int)  # Arredondando a previsão para números inteiros\n",
        "print(f\"Previsão para o próximo sorteio da Mega Sena: {previsao_inteira[0]}\")\n",
        "print(f\"Previsão concluída em {tempo_previsao:.2f} segundos.\")\n"
      ]
    }
  ]
}